{
 "cells": [
  {
   "cell_type": "code",
   "execution_count": 1,
   "id": "2b55f67f",
   "metadata": {},
   "outputs": [],
   "source": [
    "import os\n",
    "import streamlit as st\n",
    "import pickle\n",
    "import time\n",
    "from langchain import OpenAI\n",
    "from langchain.chains import RetrievalQAWithSourcesChain\n",
    "from langchain.text_splitter import RecursiveCharacterTextSplitter\n",
    "from langchain.document_loaders import UnstructuredURLLoader\n",
    "from langchain.embeddings import OpenAIEmbeddings\n",
    "from langchain.vectorstores import FAISS"
   ]
  },
  {
   "cell_type": "code",
   "execution_count": 2,
   "id": "a35a77da",
   "metadata": {},
   "outputs": [
    {
     "data": {
      "text/plain": [
       "True"
      ]
     },
     "execution_count": 2,
     "metadata": {},
     "output_type": "execute_result"
    }
   ],
   "source": [
    "from dotenv import load_dotenv\n",
    "load_dotenv()"
   ]
  },
  {
   "cell_type": "markdown",
   "id": "4f376334",
   "metadata": {},
   "source": [
    "st.title = \"News Research Tool...\"\n",
    "st.sidebar.title = \"News Research URL...\"\n",
    "\n",
    "urls = []\n",
    "for i in range(3):\n",
    "    url = st.sidebar.text_input(f\"URL {i+1}\")\n",
    "    urls.append(url)\n",
    "\n",
    "process_url_clicked = st.sidebar.button(\"Process URLs\")\n",
    "file_path = \"vector_file.pkl\"\n",
    "\n",
    "main_placefolder = st.empty()\n",
    "llm = OpenAI(temperature = 0.9, max_tokens = 500)\n",
    "\n",
    "if process_url_clicked:\n",
    "    loader = UnstructuredURLLoader(urls = urls)\n",
    "    main_placeholder.txt(\"Data loading...\")\n",
    "    \n",
    "    data = loader.load()\n",
    "    # split data\n",
    "    text_splitter = RecursiveCharacterTextSplitter(\n",
    "        separators=['\\n\\n', '\\n', '.', ','],\n",
    "        chunk_size=1000\n",
    "    )\n",
    "    main_placeholder.text(\"Text Splitter...Started...✅✅✅\")\n",
    "    docs = text_splitter.split_documents(data)\n",
    "    # create embeddings and save it to FAISS index\n",
    "    embeddings = OpenAIEmbeddings()\n",
    "    vectorstore_openai = FAISS.from_documents(docs, embeddings)\n",
    "    main_placeholder.text(\"Embedding Vector Started Building...✅✅✅\")\n",
    "    time.sleep(2)\n",
    "\n",
    "    # Save the FAISS index to a pickle file\n",
    "    with open(file_path, \"wb\") as f:\n",
    "        pickle.dump(vectorstore_openai, f)"
   ]
  },
  {
   "cell_type": "code",
   "execution_count": 3,
   "id": "38bb57b9",
   "metadata": {},
   "outputs": [],
   "source": [
    "# st.title = \"News Research Tool...\" st.sidebar.title = \"News Research URL...\"\n",
    "\n",
    "# urls = [] for i in range(3): url = st.sidebar.text_input(f\"URL {i+1}\") urls.append(url)\n",
    "\n",
    "# process_url_clicked = st.sidebar.button(\"Process URLs\") file_path = \"vector_file.pkl\"\n",
    "\n",
    "# main_placefolder = st.empty() llm = OpenAI(temperature = 0.9, max_tokens = 500)\n",
    "\n",
    "# if process_url_clicked: loader = UnstructuredURLLoader(urls = urls) main_placeholder.txt(\"Data loading...\")\n",
    "\n",
    "# data = loader.load()\n",
    "\n",
    "# text_splitter = RecursiveCharacterTextSplitter(\n",
    "#     separators = ['\\n\\n', '\\n', '.', ','],\n",
    "#     chunk_size = 1000\n",
    "# )\n",
    "# main_placeholder.txt(\"Text Splitter Started...\")\n",
    "\n",
    "# docs = text_splitter.split_documents(data)\n",
    "\n",
    "# embeddings = OpenAIEmbeddings()\n",
    "# vectorstore_openai = FAISS.from_documents(docs, embeddings)\n",
    "# main_placeholder.txt(\"Embedding Vector Started Building...\")\n",
    "# time.sleep(2)\n",
    "\n",
    "# with open(file_path, \"wb\") as f:\n",
    "#     pickle.dump(vectorstore_openai, f)"
   ]
  },
  {
   "cell_type": "code",
   "execution_count": 6,
   "id": "7af6dc58",
   "metadata": {},
   "outputs": [
    {
     "ename": "SyntaxError",
     "evalue": "invalid syntax (3660313088.py, line 1)",
     "output_type": "error",
     "traceback": [
      "\u001b[1;36m  Cell \u001b[1;32mIn[6], line 1\u001b[1;36m\u001b[0m\n\u001b[1;33m    streamlit run main.ipynb\u001b[0m\n\u001b[1;37m              ^\u001b[0m\n\u001b[1;31mSyntaxError\u001b[0m\u001b[1;31m:\u001b[0m invalid syntax\n"
     ]
    }
   ],
   "source": [
    "query = main_placeholder.text_input(\"Question: \")\n",
    "if query:\n",
    "    if os.path.exists(file_path):\n",
    "        with open(file_path, \"rb\") as f:\n",
    "            vectorstore = pickle.load(f)\n",
    "            chain = RetrievalQAWithSourcesChain.from_llm(llm=llm, retriever=vectorstore.as_retriever())\n",
    "            result = chain({\"question\": query}, return_only_outputs = True)\n",
    "            st.header(\"Answer\")\n",
    "            st.write(result[\"answer\"])\n",
    "            \n",
    "            sources = result.get(\"sources\", \"\")\n",
    "            if sources:\n",
    "                st.subheader(\"Sources: \")\n",
    "                sources_list = sources.split(\"\\n\")\n",
    "                for source in sources_list:\n",
    "                    st.write(source)"
   ]
  },
  {
   "cell_type": "code",
   "execution_count": null,
   "id": "d0e71739",
   "metadata": {},
   "outputs": [],
   "source": []
  }
 ],
 "metadata": {
  "kernelspec": {
   "display_name": "Python 3 (ipykernel)",
   "language": "python",
   "name": "python3"
  },
  "language_info": {
   "codemirror_mode": {
    "name": "ipython",
    "version": 3
   },
   "file_extension": ".py",
   "mimetype": "text/x-python",
   "name": "python",
   "nbconvert_exporter": "python",
   "pygments_lexer": "ipython3",
   "version": "3.11.1"
  }
 },
 "nbformat": 4,
 "nbformat_minor": 5
}
