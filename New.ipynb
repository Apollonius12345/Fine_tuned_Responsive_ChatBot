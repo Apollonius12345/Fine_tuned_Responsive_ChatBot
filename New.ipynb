{
 "cells": [
  {
   "cell_type": "code",
   "execution_count": 1,
   "id": "3e2b169b",
   "metadata": {},
   "outputs": [
    {
     "name": "stderr",
     "output_type": "stream",
     "text": [
      "2023-12-07 13:00:37.643 \n",
      "  \u001b[33m\u001b[1mWarning:\u001b[0m to view this Streamlit app on a browser, run it with the following\n",
      "  command:\n",
      "\n",
      "    streamlit run C:\\Users\\Arin\\AppData\\Local\\Programs\\Python\\Python311\\Lib\\site-packages\\ipykernel_launcher.py [ARGUMENTS]\n"
     ]
    }
   ],
   "source": [
    "import os\n",
    "import streamlit as st\n",
    "import pickle\n",
    "import time\n",
    "from langchain import OpenAI\n",
    "from langchain.chains import RetrievalQAWithSourcesChain\n",
    "from langchain.text_splitter import RecursiveCharacterTextSplitter\n",
    "from langchain.document_loaders import UnstructuredURLLoader\n",
    "from langchain.embeddings import OpenAIEmbeddings\n",
    "from langchain.vectorstores import FAISS\n",
    "\n",
    "from dotenv import load_dotenv\n",
    "load_dotenv()  # take environment variables from .env (especially openai api key)\n",
    "\n",
    "st.title(\"LLM based ChatBot\")\n",
    "st.sidebar.title(\"Enter the URLs here...\")\n",
    "\n",
    "urls = []\n",
    "for i in range(3):\n",
    "    url = st.sidebar.text_input(f\"URL {i+1}\")\n",
    "    urls.append(url)\n",
    "\n",
    "process_url_clicked = st.sidebar.button(\"Process URLs\")\n",
    "file_path = \"faiss_store_openai.pkl\"\n",
    "\n",
    "mp = st.empty()\n",
    "llm = OpenAI(temperature=0.9, max_tokens=500)\n",
    "\n",
    "if process_url_clicked:\n",
    "    # load data\n",
    "    loader = UnstructuredURLLoader(urls=urls)\n",
    "    mp.text(\"Data Loading has begun...\")\n",
    "    data = loader.load()\n",
    "    # split data\n",
    "    text_splitter = RecursiveCharacterTextSplitter(\n",
    "        separators=['\\n\\n', '\\n', '.', ','],\n",
    "        chunk_size=1000\n",
    "    )\n",
    "    mp.text(\"Text Splitter has begun...\")\n",
    "    docs = text_splitter.split_documents(data)\n",
    "    # create embeddings and save it to FAISS index\n",
    "    embeddings = OpenAIEmbeddings()\n",
    "    vectorstore_openai = FAISS.from_documents(docs, embeddings)\n",
    "    mp.text(\"Embedding Vector has started building...\")\n",
    "    time.sleep(2)\n",
    "\n",
    "    # Save the FAISS index to a pickle file\n",
    "    with open(file_path, \"wb\") as f:\n",
    "        pickle.dump(vectorstore_openai, f)\n",
    "\n",
    "prompt = mp.text_input(\"Enter your prompt here...\")\n",
    "if prompt:\n",
    "    if os.path.exists(file_path):\n",
    "        with open(file_path, \"rb\") as f:\n",
    "            vectorstore = pickle.load(f)\n",
    "            chain = RetrievalQAWithSourcesChain.from_llm(llm=llm, retriever=vectorstore.as_retriever())\n",
    "            result = chain({\"question\": prompt}, return_only_outputs=True)\n",
    "            # result will be a dictionary of this format --> {\"answer\": \"\", \"sources\": [] }\n",
    "            st.header(\"Answer\")\n",
    "            st.write(result[\"answer\"])\n",
    "\n",
    "            # Display sources, if available\n",
    "            sources = result.get(\"sources\", \"\")\n",
    "            if sources:\n",
    "                st.subheader(\"Sources:\")\n",
    "                sources_list = sources.split(\"\\n\")  # Split the sources by newline\n",
    "                for source in sources_list:\n",
    "                    st.write(source)"
   ]
  }
 ],
 "metadata": {
  "kernelspec": {
   "display_name": "Python 3 (ipykernel)",
   "language": "python",
   "name": "python3"
  },
  "language_info": {
   "codemirror_mode": {
    "name": "ipython",
    "version": 3
   },
   "file_extension": ".py",
   "mimetype": "text/x-python",
   "name": "python",
   "nbconvert_exporter": "python",
   "pygments_lexer": "ipython3",
   "version": "3.11.1"
  }
 },
 "nbformat": 4,
 "nbformat_minor": 5
}
